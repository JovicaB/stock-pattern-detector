{
 "cells": [
  {
   "cell_type": "code",
   "execution_count": 1,
   "id": "746b4e30",
   "metadata": {},
   "outputs": [],
   "source": [
    "import pandas as pd\n",
    "import json"
   ]
  },
  {
   "cell_type": "markdown",
   "id": "a42d2471",
   "metadata": {},
   "source": [
    "Read tickers dataset"
   ]
  },
  {
   "cell_type": "code",
   "execution_count": 2,
   "id": "723697cb",
   "metadata": {},
   "outputs": [],
   "source": [
    "df = pd.read_csv('../data/nasdaq.csv')"
   ]
  },
  {
   "cell_type": "code",
   "execution_count": 3,
   "id": "9142a74b",
   "metadata": {},
   "outputs": [
    {
     "data": {
      "text/html": [
       "<div>\n",
       "<style scoped>\n",
       "    .dataframe tbody tr th:only-of-type {\n",
       "        vertical-align: middle;\n",
       "    }\n",
       "\n",
       "    .dataframe tbody tr th {\n",
       "        vertical-align: top;\n",
       "    }\n",
       "\n",
       "    .dataframe thead th {\n",
       "        text-align: right;\n",
       "    }\n",
       "</style>\n",
       "<table border=\"1\" class=\"dataframe\">\n",
       "  <thead>\n",
       "    <tr style=\"text-align: right;\">\n",
       "      <th></th>\n",
       "      <th>Symbol</th>\n",
       "      <th>Name</th>\n",
       "      <th>Last Sale</th>\n",
       "      <th>Net Change</th>\n",
       "      <th>% Change</th>\n",
       "      <th>Market Cap</th>\n",
       "      <th>Country</th>\n",
       "      <th>IPO Year</th>\n",
       "      <th>Volume</th>\n",
       "      <th>Sector</th>\n",
       "      <th>Industry</th>\n",
       "    </tr>\n",
       "  </thead>\n",
       "  <tbody>\n",
       "    <tr>\n",
       "      <th>9</th>\n",
       "      <td>ADPT</td>\n",
       "      <td>Adaptive Biotechnologies Corporation Common Stock</td>\n",
       "      <td>$8.81</td>\n",
       "      <td>-1.2200</td>\n",
       "      <td>-12.164%</td>\n",
       "      <td>1.338386e+09</td>\n",
       "      <td>United States</td>\n",
       "      <td>2019.0</td>\n",
       "      <td>5517444</td>\n",
       "      <td>Health Care</td>\n",
       "      <td>Biotechnology: Biological Products (No Diagnos...</td>\n",
       "    </tr>\n",
       "    <tr>\n",
       "      <th>255</th>\n",
       "      <td>TLRY</td>\n",
       "      <td>Tilray Brands Inc. Common Stock</td>\n",
       "      <td>$0.421</td>\n",
       "      <td>-0.0184</td>\n",
       "      <td>-4.188%</td>\n",
       "      <td>3.947528e+08</td>\n",
       "      <td>United States</td>\n",
       "      <td>2018.0</td>\n",
       "      <td>23876849</td>\n",
       "      <td>Health Care</td>\n",
       "      <td>Medicinal Chemicals and Botanical Products</td>\n",
       "    </tr>\n",
       "    <tr>\n",
       "      <th>144</th>\n",
       "      <td>LFMDP</td>\n",
       "      <td>LifeMD Inc. 8.875% Series A Cumulative Perpetu...</td>\n",
       "      <td>$24.15</td>\n",
       "      <td>-0.5500</td>\n",
       "      <td>-2.227%</td>\n",
       "      <td>1.076696e+09</td>\n",
       "      <td>United States</td>\n",
       "      <td>NaN</td>\n",
       "      <td>599</td>\n",
       "      <td>Health Care</td>\n",
       "      <td>Medical/Nursing Services</td>\n",
       "    </tr>\n",
       "    <tr>\n",
       "      <th>213</th>\n",
       "      <td>RDNT</td>\n",
       "      <td>RadNet Inc. Common Stock</td>\n",
       "      <td>$53.30</td>\n",
       "      <td>0.1700</td>\n",
       "      <td>0.32%</td>\n",
       "      <td>3.946423e+09</td>\n",
       "      <td>United States</td>\n",
       "      <td>NaN</td>\n",
       "      <td>632743</td>\n",
       "      <td>Health Care</td>\n",
       "      <td>Medical Specialities</td>\n",
       "    </tr>\n",
       "    <tr>\n",
       "      <th>230</th>\n",
       "      <td>SGRY</td>\n",
       "      <td>Surgery Partners Inc. Common Stock</td>\n",
       "      <td>$23.01</td>\n",
       "      <td>-0.4600</td>\n",
       "      <td>-1.96%</td>\n",
       "      <td>2.936377e+09</td>\n",
       "      <td>United States</td>\n",
       "      <td>2015.0</td>\n",
       "      <td>603985</td>\n",
       "      <td>Health Care</td>\n",
       "      <td>Hospital/Nursing Management</td>\n",
       "    </tr>\n",
       "  </tbody>\n",
       "</table>\n",
       "</div>"
      ],
      "text/plain": [
       "    Symbol                                               Name Last Sale  \\\n",
       "9     ADPT  Adaptive Biotechnologies Corporation Common Stock     $8.81   \n",
       "255   TLRY                   Tilray Brands Inc. Common Stock     $0.421   \n",
       "144  LFMDP  LifeMD Inc. 8.875% Series A Cumulative Perpetu...    $24.15   \n",
       "213   RDNT                           RadNet Inc. Common Stock    $53.30   \n",
       "230   SGRY                 Surgery Partners Inc. Common Stock    $23.01   \n",
       "\n",
       "     Net Change  % Change    Market Cap        Country  IPO Year    Volume  \\\n",
       "9       -1.2200  -12.164%  1.338386e+09  United States    2019.0   5517444   \n",
       "255     -0.0184   -4.188%  3.947528e+08  United States    2018.0  23876849   \n",
       "144     -0.5500   -2.227%  1.076696e+09  United States       NaN       599   \n",
       "213      0.1700     0.32%  3.946423e+09  United States       NaN    632743   \n",
       "230     -0.4600    -1.96%  2.936377e+09  United States    2015.0    603985   \n",
       "\n",
       "          Sector                                           Industry  \n",
       "9    Health Care  Biotechnology: Biological Products (No Diagnos...  \n",
       "255  Health Care        Medicinal Chemicals and Botanical Products   \n",
       "144  Health Care                           Medical/Nursing Services  \n",
       "213  Health Care                               Medical Specialities  \n",
       "230  Health Care                        Hospital/Nursing Management  "
      ]
     },
     "execution_count": 3,
     "metadata": {},
     "output_type": "execute_result"
    }
   ],
   "source": [
    "df.sample(n=5, random_state=42)"
   ]
  },
  {
   "cell_type": "code",
   "execution_count": 4,
   "id": "fff8993c",
   "metadata": {},
   "outputs": [
    {
     "data": {
      "text/plain": [
       "Industry\n",
       "Biotechnology: Pharmaceutical Preparations                       152\n",
       "Biotechnology: Biological Products (No Diagnostic Substances)     45\n",
       "Medical/Dental Instruments                                        26\n",
       "Medical Specialities                                              16\n",
       "Medical/Nursing Services                                          14\n",
       "Biotechnology: In Vitro & In Vivo Diagnostic Substances            9\n",
       "Biotechnology: Electromedical & Electrotherapeutic Apparatus       8\n",
       " Medicinal Chemicals and Botanical Products                        5\n",
       "Hospital/Nursing Management                                        3\n",
       "Ophthalmic Goods                                                   3\n",
       "Misc Health and Biotechnology Services                             2\n",
       "Biotechnology: Commercial Physical & Biological Resarch            2\n",
       "Pharmaceuticals and Biotechnology                                  1\n",
       "Precision Instruments                                              1\n",
       "Name: count, dtype: int64"
      ]
     },
     "execution_count": 4,
     "metadata": {},
     "output_type": "execute_result"
    }
   ],
   "source": [
    "df.Industry.value_counts()"
   ]
  },
  {
   "cell_type": "markdown",
   "id": "9513142f",
   "metadata": {},
   "source": [
    "Select Pharmaceuticals and Biotechnology industry"
   ]
  },
  {
   "cell_type": "code",
   "execution_count": 5,
   "id": "fe3e36c7",
   "metadata": {},
   "outputs": [],
   "source": [
    "industry_selection = [\n",
    "    \"Biotechnology: Pharmaceutical Preparations\",\n",
    "    \"Biotechnology: Biological Products (No Diagnostic Substances)\",\n",
    "    \"Biotechnology: In Vitro & In Vivo Diagnostic Substances\",\n",
    "    \"Pharmaceuticals and Biotechnology\",\n",
    "    \"Medicinal Chemicals and Botanical Products\"\n",
    "]\n",
    "\n",
    "df = df[df.Industry.isin(industry_selection)]"
   ]
  },
  {
   "cell_type": "code",
   "execution_count": 7,
   "id": "4039be4d",
   "metadata": {},
   "outputs": [],
   "source": [
    "ticker = {ticker: name for ticker, name in zip(df.Symbol, df.Name)}\n",
    "\n",
    "with open('../data/tickers.json', 'w') as f:\n",
    "    json.dump(ticker, f, indent=4)"
   ]
  }
 ],
 "metadata": {
  "kernelspec": {
   "display_name": "env",
   "language": "python",
   "name": "python3"
  },
  "language_info": {
   "codemirror_mode": {
    "name": "ipython",
    "version": 3
   },
   "file_extension": ".py",
   "mimetype": "text/x-python",
   "name": "python",
   "nbconvert_exporter": "python",
   "pygments_lexer": "ipython3",
   "version": "3.12.4"
  }
 },
 "nbformat": 4,
 "nbformat_minor": 5
}
