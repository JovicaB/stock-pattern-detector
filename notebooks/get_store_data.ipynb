{
 "cells": [
  {
   "cell_type": "code",
   "execution_count": 81,
   "id": "f9f13d9c",
   "metadata": {},
   "outputs": [],
   "source": [
    "import pandas as pd\n",
    "import yfinance as yf\n",
    "\n",
    "from datetime import date\n",
    "from dateutil.relativedelta import relativedelta\n",
    "import json"
   ]
  },
  {
   "cell_type": "code",
   "execution_count": 82,
   "id": "31eaba79",
   "metadata": {},
   "outputs": [],
   "source": [
    "with open('../data/tickers.json') as f:\n",
    "    tickers = json.load(f)"
   ]
  },
  {
   "cell_type": "markdown",
   "id": "7df0359c",
   "metadata": {},
   "source": [
    "Get ticker symbols to the list"
   ]
  },
  {
   "cell_type": "code",
   "execution_count": 8,
   "id": "0231bdc5",
   "metadata": {},
   "outputs": [],
   "source": [
    "tickers = [ticker for ticker in tickers.keys()]"
   ]
  },
  {
   "cell_type": "markdown",
   "id": "c960f10e",
   "metadata": {},
   "source": [
    "Set date range"
   ]
  },
  {
   "cell_type": "code",
   "execution_count": 108,
   "id": "8ccf5685",
   "metadata": {},
   "outputs": [],
   "source": [
    "end_date = date.today()\n",
    "start_date = end_date - relativedelta(months=6)"
   ]
  },
  {
   "cell_type": "code",
   "execution_count": 129,
   "id": "b4206acf",
   "metadata": {},
   "outputs": [
    {
     "data": {
      "text/html": [
       "<div>\n",
       "<style scoped>\n",
       "    .dataframe tbody tr th:only-of-type {\n",
       "        vertical-align: middle;\n",
       "    }\n",
       "\n",
       "    .dataframe tbody tr th {\n",
       "        vertical-align: top;\n",
       "    }\n",
       "\n",
       "    .dataframe thead tr th {\n",
       "        text-align: left;\n",
       "    }\n",
       "\n",
       "    .dataframe thead tr:last-of-type th {\n",
       "        text-align: right;\n",
       "    }\n",
       "</style>\n",
       "<table border=\"1\" class=\"dataframe\">\n",
       "  <thead>\n",
       "    <tr>\n",
       "      <th>Price</th>\n",
       "      <th>Close</th>\n",
       "      <th>High</th>\n",
       "      <th>Low</th>\n",
       "      <th>Open</th>\n",
       "      <th>Volume</th>\n",
       "    </tr>\n",
       "    <tr>\n",
       "      <th>Ticker</th>\n",
       "      <th>MSFT</th>\n",
       "      <th>MSFT</th>\n",
       "      <th>MSFT</th>\n",
       "      <th>MSFT</th>\n",
       "      <th>MSFT</th>\n",
       "    </tr>\n",
       "    <tr>\n",
       "      <th>Date</th>\n",
       "      <th></th>\n",
       "      <th></th>\n",
       "      <th></th>\n",
       "      <th></th>\n",
       "      <th></th>\n",
       "    </tr>\n",
       "  </thead>\n",
       "  <tbody>\n",
       "    <tr>\n",
       "      <th>2024-11-08</th>\n",
       "      <td>420.852051</td>\n",
       "      <td>424.796223</td>\n",
       "      <td>420.095077</td>\n",
       "      <td>423.620944</td>\n",
       "      <td>16891400</td>\n",
       "    </tr>\n",
       "    <tr>\n",
       "      <th>2024-11-11</th>\n",
       "      <td>416.340149</td>\n",
       "      <td>423.112972</td>\n",
       "      <td>414.338169</td>\n",
       "      <td>420.832112</td>\n",
       "      <td>24503300</td>\n",
       "    </tr>\n",
       "    <tr>\n",
       "      <th>2024-11-12</th>\n",
       "      <td>421.340088</td>\n",
       "      <td>422.744459</td>\n",
       "      <td>415.533391</td>\n",
       "      <td>416.579184</td>\n",
       "      <td>19401200</td>\n",
       "    </tr>\n",
       "    <tr>\n",
       "      <th>2024-11-13</th>\n",
       "      <td>423.501434</td>\n",
       "      <td>427.614910</td>\n",
       "      <td>416.539337</td>\n",
       "      <td>419.955658</td>\n",
       "      <td>21502200</td>\n",
       "    </tr>\n",
       "    <tr>\n",
       "      <th>2024-11-14</th>\n",
       "      <td>425.184692</td>\n",
       "      <td>426.459578</td>\n",
       "      <td>418.322202</td>\n",
       "      <td>423.302228</td>\n",
       "      <td>30246900</td>\n",
       "    </tr>\n",
       "  </tbody>\n",
       "</table>\n",
       "</div>"
      ],
      "text/plain": [
       "Price            Close        High         Low        Open    Volume\n",
       "Ticker            MSFT        MSFT        MSFT        MSFT      MSFT\n",
       "Date                                                                \n",
       "2024-11-08  420.852051  424.796223  420.095077  423.620944  16891400\n",
       "2024-11-11  416.340149  423.112972  414.338169  420.832112  24503300\n",
       "2024-11-12  421.340088  422.744459  415.533391  416.579184  19401200\n",
       "2024-11-13  423.501434  427.614910  416.539337  419.955658  21502200\n",
       "2024-11-14  425.184692  426.459578  418.322202  423.302228  30246900"
      ]
     },
     "execution_count": 129,
     "metadata": {},
     "output_type": "execute_result"
    }
   ],
   "source": [
    "ticker = ['AAPL', 'MSFT']\n",
    "\n",
    "ticker_data = yf.download('MSFT', start=start_date, end=end_date, progress=False)\n",
    "\n",
    "ticker_data.head()"
   ]
  },
  {
   "cell_type": "code",
   "execution_count": 110,
   "id": "753a0416",
   "metadata": {},
   "outputs": [],
   "source": [
    "data = pd.DataFrame()\n",
    "data['date'] = ticker_data['Date']\n",
    "data['close_price'] = ticker_data['Close']\n",
    "data['volume'] = ticker_data['Volume']\n",
    "data['ticker'] = 'AAPL'\n"
   ]
  },
  {
   "cell_type": "code",
   "execution_count": 113,
   "id": "0a85c28c",
   "metadata": {},
   "outputs": [
    {
     "name": "stdout",
     "output_type": "stream",
     "text": [
      "           close_price                volume          \n",
      "Ticker            AAPL        MSFT      AAPL      MSFT\n",
      "ticker            AAPL        MSFT      AAPL      MSFT\n",
      "Date                                                  \n",
      "2024-01-02  184.532089  367.380585  82488700  25258600\n",
      "2024-01-03  183.150375  367.113159  58414500  23083500\n",
      "2024-01-04  180.824356  364.478180  71983600  20901500\n",
      "2024-01-05  180.098694  364.289978  62303300  20987000\n",
      "2024-01-08  184.452560  371.164673  59144500  23134000\n"
     ]
    }
   ],
   "source": [
    "import yfinance as yf\n",
    "import pandas as pd\n",
    "\n",
    "# Lista tickera\n",
    "tickers = ['AAPL', 'MSFT']\n",
    "\n",
    "# Prazna lista za pohranu svih DataFrame-a\n",
    "df_list_close = []\n",
    "df_list_volume = []\n",
    "\n",
    "# Loop za preuzimanje podataka i organizovanje\n",
    "for ticker in tickers:\n",
    "    # Preuzimanje podataka za ticker\n",
    "    data = yf.download(ticker, start='2024-01-01', end='2025-01-01', progress=False)\n",
    "\n",
    "    # Dodavanje kolone za ticker\n",
    "    data['ticker'] = ticker\n",
    "    \n",
    "    # Organizovanje close_price podataka\n",
    "    df_close = data[['Close', 'ticker']].set_index([data.index, 'ticker']).unstack(level='ticker')['Close']\n",
    "    df_list_close.append(df_close)\n",
    "\n",
    "    # Organizovanje volume podataka\n",
    "    df_volume = data[['Volume', 'ticker']].set_index([data.index, 'ticker']).unstack(level='ticker')['Volume']\n",
    "    df_list_volume.append(df_volume)\n",
    "\n",
    "# Kombinovanje svih DataFrame-ova za close_price i volume\n",
    "final_close = pd.concat(df_list_close, axis=1)\n",
    "final_volume = pd.concat(df_list_volume, axis=1)\n",
    "\n",
    "# Spajanje close_price i volume DataFrame-a\n",
    "final_df = pd.concat([final_close, final_volume], axis=1, keys=['close_price', 'volume'])\n",
    "\n",
    "# Prikazivanje rezultata\n",
    "print(final_df.head())\n"
   ]
  },
  {
   "cell_type": "code",
   "execution_count": 121,
   "id": "303c09e0",
   "metadata": {},
   "outputs": [
    {
     "name": "stdout",
     "output_type": "stream",
     "text": [
      "Price        Date  AAPL_close AAPL_volume  MSFT_close MSFT_volume\n",
      "Ticker                                                           \n",
      "0      2024-01-02  184.532089    82488700  367.380585    25258600\n",
      "1      2024-01-03  183.150375    58414500  367.113159    23083500\n",
      "2      2024-01-04  180.824356    71983600  364.478180    20901500\n",
      "3      2024-01-05  180.098694    62303300  364.289978    20987000\n",
      "4      2024-01-08  184.452560    59144500  371.164673    23134000\n"
     ]
    }
   ],
   "source": [
    "import yfinance as yf\n",
    "import pandas as pd\n",
    "\n",
    "tickers = ['AAPL', 'MSFT']\n",
    "\n",
    "df_list_close = []\n",
    "df_list_volume = []\n",
    "\n",
    "for ticker in tickers:\n",
    "    # Preuzimanje podataka za ticker\n",
    "    data = yf.download(ticker, start='2024-01-01', end='2025-01-01', progress=False)\n",
    "\n",
    "    # Dodavanje kolone za ticker\n",
    "    data['ticker'] = ticker\n",
    "    \n",
    "    # Kreiranje novih kolona sa nazivima 'ticker_close' i 'ticker_volume'\n",
    "    data['close_price'] = data['Close']\n",
    "    data['volume'] = data['Volume']\n",
    "    \n",
    "    # Dodavanje samo potrebnih kolona u listu, koristeći indeks umesto 'date' kolone\n",
    "    df_list_close.append(data[['close_price']].rename(columns={'close_price': f'{ticker}_close'}))\n",
    "    df_list_volume.append(data[['volume']].rename(columns={'volume': f'{ticker}_volume'}))\n",
    "\n",
    "# Kombinovanje svih DataFrame-ova za close_price i volume\n",
    "final_close = pd.concat(df_list_close, axis=1)\n",
    "final_volume = pd.concat(df_list_volume, axis=1)\n",
    "\n",
    "# Spajanje close_price i volume DataFrame-a\n",
    "final_df = pd.concat([final_close, final_volume], axis=1)\n",
    "\n",
    "# Resetovanje indeksa da bi 'date' postao obična kolona\n",
    "final_df.reset_index(inplace=True)\n",
    "\n",
    "# Postavljanje tačnog redosleda kolona\n",
    "final_df = final_df[['Date', 'AAPL_close', 'AAPL_volume', 'MSFT_close', 'MSFT_volume']]\n",
    "\n",
    "# Prikazivanje rezultata\n",
    "print(final_df.head())\n"
   ]
  },
  {
   "cell_type": "code",
   "execution_count": 131,
   "id": "ef33e08a",
   "metadata": {},
   "outputs": [
    {
     "name": "stdout",
     "output_type": "stream",
     "text": [
      "Price        Date AAPL_close_change AAPL_volume_change MSFT_close_change  \\\n",
      "Ticker                                                                     \n",
      "0      2024-01-02               NaN                NaN               NaN   \n",
      "1      2024-01-03         -0.007488          -0.291848         -0.000728   \n",
      "2      2024-01-04         -0.012700           0.232290         -0.007178   \n",
      "3      2024-01-05         -0.004013          -0.134479         -0.000516   \n",
      "4      2024-01-08          0.024175          -0.050700          0.018871   \n",
      "\n",
      "Price  MSFT_volume_change  \n",
      "Ticker                     \n",
      "0                     NaN  \n",
      "1               -0.086113  \n",
      "2               -0.094526  \n",
      "3                0.004091  \n",
      "4                0.102301  \n"
     ]
    }
   ],
   "source": [
    "import yfinance as yf\n",
    "import pandas as pd\n",
    "\n",
    "tickers = ['AAPL', 'MSFT']\n",
    "\n",
    "df_list_close = []\n",
    "df_list_volume = []\n",
    "\n",
    "for ticker in tickers:\n",
    "    # Preuzimanje podataka za ticker\n",
    "    data = yf.download(ticker, start='2024-01-01', end='2025-01-01', progress=False)\n",
    "    \n",
    "    # Dodavanje kolone za ticker\n",
    "    data['ticker'] = ticker\n",
    "    \n",
    "    # Izračunavanje postotne promene za close_price i volume\n",
    "    data['close_price_change'] = data['Close'].pct_change()   # Procenat promene cene\n",
    "    data['volume_change'] = data['Volume'].pct_change()   # Procenat promene volumena\n",
    "\n",
    "    # Dodavanje samo potrebnih kolona u listu, koristeći indeks umesto 'date' kolone\n",
    "    df_list_close.append(data[['close_price_change']].rename(columns={'close_price_change': f'{ticker}_close_change'}))\n",
    "    df_list_volume.append(data[['volume_change']].rename(columns={'volume_change': f'{ticker}_volume_change'}))\n",
    "\n",
    "# Kombinovanje svih DataFrame-ova za close_price_change i volume_change\n",
    "final_close = pd.concat(df_list_close, axis=1)\n",
    "final_volume = pd.concat(df_list_volume, axis=1)\n",
    "\n",
    "# Spajanje close_price_change i volume_change DataFrame-a\n",
    "final_df = pd.concat([final_close, final_volume], axis=1)\n",
    "\n",
    "# Resetovanje indeksa da bi 'date' postao obična kolona\n",
    "final_df.reset_index(inplace=True)\n",
    "\n",
    "# Postavljanje tačnog redosleda kolona\n",
    "final_df = final_df[['Date', 'AAPL_close_change', 'AAPL_volume_change', 'MSFT_close_change', 'MSFT_volume_change']]\n",
    "\n",
    "# Prikazivanje rezultata\n",
    "print(final_df.head())\n"
   ]
  }
 ],
 "metadata": {
  "kernelspec": {
   "display_name": "env",
   "language": "python",
   "name": "python3"
  },
  "language_info": {
   "codemirror_mode": {
    "name": "ipython",
    "version": 3
   },
   "file_extension": ".py",
   "mimetype": "text/x-python",
   "name": "python",
   "nbconvert_exporter": "python",
   "pygments_lexer": "ipython3",
   "version": "3.12.4"
  }
 },
 "nbformat": 4,
 "nbformat_minor": 5
}
