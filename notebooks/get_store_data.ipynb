{
 "cells": [
  {
   "cell_type": "code",
   "execution_count": 81,
   "id": "f9f13d9c",
   "metadata": {},
   "outputs": [],
   "source": [
    "import pandas as pd\n",
    "import yfinance as yf\n",
    "\n",
    "from datetime import date\n",
    "from dateutil.relativedelta import relativedelta\n",
    "import json"
   ]
  },
  {
   "cell_type": "code",
   "execution_count": 82,
   "id": "31eaba79",
   "metadata": {},
   "outputs": [],
   "source": [
    "with open('../data/tickers.json') as f:\n",
    "    tickers = json.load(f)"
   ]
  },
  {
   "cell_type": "markdown",
   "id": "7df0359c",
   "metadata": {},
   "source": [
    "Get ticker symbols to the list"
   ]
  },
  {
   "cell_type": "code",
   "execution_count": 8,
   "id": "0231bdc5",
   "metadata": {},
   "outputs": [],
   "source": [
    "tickers = [ticker for ticker in tickers.keys()]"
   ]
  },
  {
   "cell_type": "markdown",
   "id": "c960f10e",
   "metadata": {},
   "source": [
    "Set date range"
   ]
  },
  {
   "cell_type": "code",
   "execution_count": 108,
   "id": "8ccf5685",
   "metadata": {},
   "outputs": [],
   "source": [
    "end_date = date.today()\n",
    "start_date = end_date - relativedelta(months=6)"
   ]
  },
  {
   "cell_type": "code",
   "execution_count": 109,
   "id": "b4206acf",
   "metadata": {},
   "outputs": [],
   "source": [
    "ticker_data = yf.download('AAPL', start=start_date, end=end_date, progress=False)\n",
    "\n",
    "ticker_data = ticker_data.reset_index()"
   ]
  },
  {
   "cell_type": "code",
   "execution_count": 110,
   "id": "753a0416",
   "metadata": {},
   "outputs": [],
   "source": [
    "data = pd.DataFrame()\n",
    "data['date'] = ticker_data['Date']\n",
    "data['close_price'] = ticker_data['Close']\n",
    "data['volume'] = ticker_data['Volume']\n",
    "data['ticker'] = 'AAPL'\n"
   ]
  },
  {
   "cell_type": "code",
   "execution_count": 111,
   "id": "0a85c28c",
   "metadata": {},
   "outputs": [
    {
     "data": {
      "text/html": [
       "<div>\n",
       "<style scoped>\n",
       "    .dataframe tbody tr th:only-of-type {\n",
       "        vertical-align: middle;\n",
       "    }\n",
       "\n",
       "    .dataframe tbody tr th {\n",
       "        vertical-align: top;\n",
       "    }\n",
       "\n",
       "    .dataframe thead th {\n",
       "        text-align: right;\n",
       "    }\n",
       "</style>\n",
       "<table border=\"1\" class=\"dataframe\">\n",
       "  <thead>\n",
       "    <tr style=\"text-align: right;\">\n",
       "      <th></th>\n",
       "      <th>date</th>\n",
       "      <th>close_price</th>\n",
       "      <th>volume</th>\n",
       "      <th>ticker</th>\n",
       "    </tr>\n",
       "  </thead>\n",
       "  <tbody>\n",
       "    <tr>\n",
       "      <th>0</th>\n",
       "      <td>2024-11-08</td>\n",
       "      <td>226.710739</td>\n",
       "      <td>38328800</td>\n",
       "      <td>AAPL</td>\n",
       "    </tr>\n",
       "    <tr>\n",
       "      <th>1</th>\n",
       "      <td>2024-11-11</td>\n",
       "      <td>223.983734</td>\n",
       "      <td>42005600</td>\n",
       "      <td>AAPL</td>\n",
       "    </tr>\n",
       "    <tr>\n",
       "      <th>2</th>\n",
       "      <td>2024-11-12</td>\n",
       "      <td>223.983734</td>\n",
       "      <td>40398300</td>\n",
       "      <td>AAPL</td>\n",
       "    </tr>\n",
       "    <tr>\n",
       "      <th>3</th>\n",
       "      <td>2024-11-13</td>\n",
       "      <td>224.872757</td>\n",
       "      <td>48566200</td>\n",
       "      <td>AAPL</td>\n",
       "    </tr>\n",
       "    <tr>\n",
       "      <th>4</th>\n",
       "      <td>2024-11-14</td>\n",
       "      <td>227.969360</td>\n",
       "      <td>44923900</td>\n",
       "      <td>AAPL</td>\n",
       "    </tr>\n",
       "    <tr>\n",
       "      <th>...</th>\n",
       "      <td>...</td>\n",
       "      <td>...</td>\n",
       "      <td>...</td>\n",
       "      <td>...</td>\n",
       "    </tr>\n",
       "    <tr>\n",
       "      <th>117</th>\n",
       "      <td>2025-05-01</td>\n",
       "      <td>213.320007</td>\n",
       "      <td>57365700</td>\n",
       "      <td>AAPL</td>\n",
       "    </tr>\n",
       "    <tr>\n",
       "      <th>118</th>\n",
       "      <td>2025-05-02</td>\n",
       "      <td>205.350006</td>\n",
       "      <td>101010600</td>\n",
       "      <td>AAPL</td>\n",
       "    </tr>\n",
       "    <tr>\n",
       "      <th>119</th>\n",
       "      <td>2025-05-05</td>\n",
       "      <td>198.889999</td>\n",
       "      <td>69018500</td>\n",
       "      <td>AAPL</td>\n",
       "    </tr>\n",
       "    <tr>\n",
       "      <th>120</th>\n",
       "      <td>2025-05-06</td>\n",
       "      <td>198.509995</td>\n",
       "      <td>51216500</td>\n",
       "      <td>AAPL</td>\n",
       "    </tr>\n",
       "    <tr>\n",
       "      <th>121</th>\n",
       "      <td>2025-05-07</td>\n",
       "      <td>196.250000</td>\n",
       "      <td>68536700</td>\n",
       "      <td>AAPL</td>\n",
       "    </tr>\n",
       "  </tbody>\n",
       "</table>\n",
       "<p>122 rows × 4 columns</p>\n",
       "</div>"
      ],
      "text/plain": [
       "          date  close_price     volume ticker\n",
       "0   2024-11-08   226.710739   38328800   AAPL\n",
       "1   2024-11-11   223.983734   42005600   AAPL\n",
       "2   2024-11-12   223.983734   40398300   AAPL\n",
       "3   2024-11-13   224.872757   48566200   AAPL\n",
       "4   2024-11-14   227.969360   44923900   AAPL\n",
       "..         ...          ...        ...    ...\n",
       "117 2025-05-01   213.320007   57365700   AAPL\n",
       "118 2025-05-02   205.350006  101010600   AAPL\n",
       "119 2025-05-05   198.889999   69018500   AAPL\n",
       "120 2025-05-06   198.509995   51216500   AAPL\n",
       "121 2025-05-07   196.250000   68536700   AAPL\n",
       "\n",
       "[122 rows x 4 columns]"
      ]
     },
     "execution_count": 111,
     "metadata": {},
     "output_type": "execute_result"
    }
   ],
   "source": [
    "data"
   ]
  }
 ],
 "metadata": {
  "kernelspec": {
   "display_name": "env",
   "language": "python",
   "name": "python3"
  },
  "language_info": {
   "codemirror_mode": {
    "name": "ipython",
    "version": 3
   },
   "file_extension": ".py",
   "mimetype": "text/x-python",
   "name": "python",
   "nbconvert_exporter": "python",
   "pygments_lexer": "ipython3",
   "version": "3.12.4"
  }
 },
 "nbformat": 4,
 "nbformat_minor": 5
}
